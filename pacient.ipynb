{
 "cells": [
  {
   "cell_type": "markdown",
   "metadata": {},
   "source": [
    "# Construção do modelo com dados históricos da Operadora de saúde"
   ]
  },
  {
   "cell_type": "markdown",
   "metadata": {},
   "source": [
    "## Cenário atual\n",
    "#### A partir da base de dados com cerca de 50 mil registros faremos a análise e um modelo que nos permita entender se o paciente que chega, terá a tendencia a ficar muito ou pouco tempo no hospital"
   ]
  },
  {
   "cell_type": "markdown",
   "metadata": {},
   "source": [
    "##### Antes da análise, aplicaremos as regras definidas pela operadora de saúde sobre nossos dados, são elas:\n",
    "- Tempo de permanência até 2 dias é CURTO, entre 2 e 7 dias é MEDIO e acima de 7 dias é LONGO\n",
    "- CID com tempo médio de permanência até 7 dias Baixa Complexidade acima de 7 dias Alta complexidade"
   ]
  },
  {
   "cell_type": "markdown",
   "metadata": {},
   "source": [
    "Começaremos nossa preparação, análise e treinamento de modelo, importando nossos dados e aplicando as regras prédeterminadas"
   ]
  },
  {
   "cell_type": "code",
   "execution_count": 1,
   "metadata": {},
   "outputs": [],
   "source": [
    "import pandas as pd\n",
    "import numpy as np\n",
    "import matplotlib.pyplot as plt\n",
    "import seaborn as sns"
   ]
  },
  {
   "cell_type": "code",
   "execution_count": 2,
   "metadata": {},
   "outputs": [
    {
     "name": "stdout",
     "output_type": "stream",
     "text": [
      "<class 'pandas.core.frame.DataFrame'>\n",
      "RangeIndex: 52767 entries, 0 to 52766\n",
      "Data columns (total 6 columns):\n",
      " #   Column             Non-Null Count  Dtype  \n",
      "---  ------             --------------  -----  \n",
      " 0   CARATER            51234 non-null  object \n",
      " 1   CID                52766 non-null  object \n",
      " 2   DIAGNOSTICO        52755 non-null  object \n",
      " 3   IDADE              52766 non-null  float64\n",
      " 4   GENERO             52766 non-null  object \n",
      " 5   tempo_permanencia  52767 non-null  int64  \n",
      "dtypes: float64(1), int64(1), object(4)\n",
      "memory usage: 2.4+ MB\n"
     ]
    }
   ],
   "source": [
    "ds_pacients = pd.read_excel('COLECISTECTOMIA.xlsx')\n",
    "\n",
    "ds_pacients.describe()\n",
    "ds_pacients.info()"
   ]
  },
  {
   "cell_type": "code",
   "execution_count": 3,
   "metadata": {},
   "outputs": [
    {
     "data": {
      "text/html": [
       "<div>\n",
       "<style scoped>\n",
       "    .dataframe tbody tr th:only-of-type {\n",
       "        vertical-align: middle;\n",
       "    }\n",
       "\n",
       "    .dataframe tbody tr th {\n",
       "        vertical-align: top;\n",
       "    }\n",
       "\n",
       "    .dataframe thead th {\n",
       "        text-align: right;\n",
       "    }\n",
       "</style>\n",
       "<table border=\"1\" class=\"dataframe\">\n",
       "  <thead>\n",
       "    <tr style=\"text-align: right;\">\n",
       "      <th></th>\n",
       "      <th>CARATER</th>\n",
       "      <th>CID</th>\n",
       "      <th>DIAGNOSTICO</th>\n",
       "      <th>IDADE</th>\n",
       "      <th>GENERO</th>\n",
       "      <th>tempo_permanencia</th>\n",
       "    </tr>\n",
       "  </thead>\n",
       "  <tbody>\n",
       "    <tr>\n",
       "      <th>0</th>\n",
       "      <td>Elective</td>\n",
       "      <td>K810</td>\n",
       "      <td>149 Biliary tract disease</td>\n",
       "      <td>46.0</td>\n",
       "      <td>Feminino</td>\n",
       "      <td>1</td>\n",
       "    </tr>\n",
       "    <tr>\n",
       "      <th>1</th>\n",
       "      <td>Elective</td>\n",
       "      <td>K805</td>\n",
       "      <td>149 Biliary tract disease</td>\n",
       "      <td>29.0</td>\n",
       "      <td>Feminino</td>\n",
       "      <td>1</td>\n",
       "    </tr>\n",
       "    <tr>\n",
       "      <th>2</th>\n",
       "      <td>Elective</td>\n",
       "      <td>K811</td>\n",
       "      <td>149 Biliary tract disease</td>\n",
       "      <td>29.0</td>\n",
       "      <td>Feminino</td>\n",
       "      <td>1</td>\n",
       "    </tr>\n",
       "    <tr>\n",
       "      <th>3</th>\n",
       "      <td>Elective</td>\n",
       "      <td>K80</td>\n",
       "      <td>149 Biliary tract disease</td>\n",
       "      <td>41.0</td>\n",
       "      <td>Masculino</td>\n",
       "      <td>0</td>\n",
       "    </tr>\n",
       "    <tr>\n",
       "      <th>4</th>\n",
       "      <td>Elective</td>\n",
       "      <td>K811</td>\n",
       "      <td>149 Biliary tract disease</td>\n",
       "      <td>45.0</td>\n",
       "      <td>Feminino</td>\n",
       "      <td>1</td>\n",
       "    </tr>\n",
       "  </tbody>\n",
       "</table>\n",
       "</div>"
      ],
      "text/plain": [
       "    CARATER   CID                DIAGNOSTICO  IDADE     GENERO  \\\n",
       "0  Elective  K810  149 Biliary tract disease   46.0   Feminino   \n",
       "1  Elective  K805  149 Biliary tract disease   29.0   Feminino   \n",
       "2  Elective  K811  149 Biliary tract disease   29.0   Feminino   \n",
       "3  Elective   K80  149 Biliary tract disease   41.0  Masculino   \n",
       "4  Elective  K811  149 Biliary tract disease   45.0   Feminino   \n",
       "\n",
       "   tempo_permanencia  \n",
       "0                  1  \n",
       "1                  1  \n",
       "2                  1  \n",
       "3                  0  \n",
       "4                  1  "
      ]
     },
     "execution_count": 3,
     "metadata": {},
     "output_type": "execute_result"
    }
   ],
   "source": [
    "ds_pacients.head()"
   ]
  },
  {
   "cell_type": "markdown",
   "metadata": {},
   "source": [
    "Aplicando as regras definidas por nossa Operadora de saúde"
   ]
  },
  {
   "cell_type": "code",
   "execution_count": 4,
   "metadata": {},
   "outputs": [
    {
     "data": {
      "text/plain": [
       "CARATER              1533\n",
       "CID                     1\n",
       "DIAGNOSTICO            12\n",
       "IDADE                   1\n",
       "GENERO                  1\n",
       "tempo_permanencia       0\n",
       "dtype: int64"
      ]
     },
     "execution_count": 4,
     "metadata": {},
     "output_type": "execute_result"
    }
   ],
   "source": [
    "#verificando dados nulos\n",
    "ds_pacients.isnull().sum()"
   ]
  },
  {
   "cell_type": "markdown",
   "metadata": {},
   "source": [
    "Por conta dos dados nulos representarem uma parcela muito baixa dos nossos dados, eles serão removidos."
   ]
  },
  {
   "cell_type": "code",
   "execution_count": 5,
   "metadata": {},
   "outputs": [
    {
     "data": {
      "text/plain": [
       "1544"
      ]
     },
     "execution_count": 5,
     "metadata": {},
     "output_type": "execute_result"
    }
   ],
   "source": [
    "clean_data = ds_pacients.dropna()\n",
    "\n",
    "qtd_dados_limpos = len(ds_pacients) - len(clean_data) \n",
    "\n",
    "qtd_dados_limpos"
   ]
  },
  {
   "cell_type": "markdown",
   "metadata": {},
   "source": [
    "Agora sem os dados nulos que faziam parte da nossa base vamos aplicar as regras."
   ]
  },
  {
   "cell_type": "markdown",
   "metadata": {},
   "source": [
    "Aplicando classificação do tempo de permanencia em Curto, Médio e Longo com base na quantidade de dias registradas"
   ]
  },
  {
   "cell_type": "code",
   "execution_count": 6,
   "metadata": {},
   "outputs": [
    {
     "name": "stderr",
     "output_type": "stream",
     "text": [
      "C:\\Users\\lucas\\AppData\\Local\\Temp\\ipykernel_22392\\1761234461.py:2: SettingWithCopyWarning: \n",
      "A value is trying to be set on a copy of a slice from a DataFrame.\n",
      "Try using .loc[row_indexer,col_indexer] = value instead\n",
      "\n",
      "See the caveats in the documentation: https://pandas.pydata.org/pandas-docs/stable/user_guide/indexing.html#returning-a-view-versus-a-copy\n",
      "  clean_data['tempo_permanencia'] = clean_data['tempo_permanencia'].apply(lambda x: 'Curto' if x <= 2 else 'Medio' if x <= 7 else 'Longo')\n"
     ]
    },
    {
     "data": {
      "text/plain": [
       "array(['Curto', 'Medio', 'Longo'], dtype=object)"
      ]
     },
     "execution_count": 6,
     "metadata": {},
     "output_type": "execute_result"
    }
   ],
   "source": [
    "#Aplicando regra na coluna tempo_permanencia\n",
    "clean_data['tempo_permanencia'] = clean_data['tempo_permanencia'].apply(lambda x: 'Curto' if x <= 2 else 'Medio' if x <= 7 else 'Longo')\n",
    "\n",
    "clean_data['tempo_permanencia'].unique()"
   ]
  },
  {
   "cell_type": "markdown",
   "metadata": {},
   "source": [
    "Realizando agrupamento de CID por tempo médio de permanencia nas classificações Baixa complexidade e Alta complexidade\n"
   ]
  },
  {
   "cell_type": "code",
   "execution_count": 7,
   "metadata": {},
   "outputs": [
    {
     "data": {
      "text/plain": [
       "array(['Baixa complexidade', 'Alta complexidade'], dtype=object)"
      ]
     },
     "execution_count": 7,
     "metadata": {},
     "output_type": "execute_result"
    }
   ],
   "source": [
    "#Aplicando conveção dos CIDS, Alta complexidade  / Baixa complexidade \n",
    "clean_data.loc[(clean_data['tempo_permanencia'] == 'Curto') | (clean_data['tempo_permanencia'] == 'Medio'), 'CID'] = 'Baixa complexidade'\n",
    "clean_data.loc[clean_data['tempo_permanencia'] == 'Longo', 'CID'] = 'Alta complexidade'\n",
    "\n",
    "clean_data['CID'].unique()"
   ]
  },
  {
   "cell_type": "markdown",
   "metadata": {},
   "source": [
    "Analisando distribuição dos dados pela idade"
   ]
  },
  {
   "cell_type": "code",
   "execution_count": 8,
   "metadata": {},
   "outputs": [
    {
     "data": {
      "text/plain": [
       "(array([  127.,   994.,  6875., 15274., 12905.,  9268.,  3904.,  1545.,\n",
       "          311.,    20.]),\n",
       " array([  1. ,  11.4,  21.8,  32.2,  42.6,  53. ,  63.4,  73.8,  84.2,\n",
       "         94.6, 105. ]),\n",
       " <BarContainer object of 10 artists>)"
      ]
     },
     "execution_count": 8,
     "metadata": {},
     "output_type": "execute_result"
    },
    {
     "data": {
      "image/png": "[encoded data removed]",
      "text/plain": [
       "<Figure size 432x288 with 1 Axes>"
      ]
     },
     "metadata": {
      "needs_background": "light"
     },
     "output_type": "display_data"
    }
   ],
   "source": [
    "plt.hist(clean_data['IDADE'])"
   ]
  },
  {
   "cell_type": "markdown",
   "metadata": {},
   "source": [
    "Aplicando conversão da idade de dados float para integer"
   ]
  },
  {
   "cell_type": "code",
   "execution_count": 9,
   "metadata": {},
   "outputs": [
    {
     "name": "stderr",
     "output_type": "stream",
     "text": [
      "C:\\Users\\lucas\\AppData\\Local\\Temp\\ipykernel_22392\\548574069.py:2: SettingWithCopyWarning: \n",
      "A value is trying to be set on a copy of a slice from a DataFrame.\n",
      "Try using .loc[row_indexer,col_indexer] = value instead\n",
      "\n",
      "See the caveats in the documentation: https://pandas.pydata.org/pandas-docs/stable/user_guide/indexing.html#returning-a-view-versus-a-copy\n",
      "  clean_data['IDADE'] = pd.to_numeric(clean_data['IDADE'], downcast='integer')\n"
     ]
    },
    {
     "data": {
      "text/plain": [
       "0        46\n",
       "1        29\n",
       "2        29\n",
       "3        41\n",
       "4        45\n",
       "         ..\n",
       "52761    54\n",
       "52762    36\n",
       "52763    30\n",
       "52764    53\n",
       "52765    35\n",
       "Name: IDADE, Length: 51223, dtype: int8"
      ]
     },
     "execution_count": 9,
     "metadata": {},
     "output_type": "execute_result"
    }
   ],
   "source": [
    "#Aplicando regra em relação a IDADE dos pacientes\n",
    "clean_data['IDADE'] = pd.to_numeric(clean_data['IDADE'], downcast='integer')\n",
    "clean_data['IDADE']"
   ]
  },
  {
   "cell_type": "markdown",
   "metadata": {},
   "source": [
    "#### Agora temos nossas regras aplicadas vamos verificar como ficou nossos dados e fazer algumas análises"
   ]
  },
  {
   "cell_type": "markdown",
   "metadata": {},
   "source": [
    "Removendo de nossa construção os dados de Diagnostico"
   ]
  },
  {
   "cell_type": "code",
   "execution_count": 10,
   "metadata": {},
   "outputs": [
    {
     "name": "stdout",
     "output_type": "stream",
     "text": [
      "<class 'pandas.core.frame.DataFrame'>\n",
      "Int64Index: 51223 entries, 0 to 52765\n",
      "Data columns (total 5 columns):\n",
      " #   Column             Non-Null Count  Dtype \n",
      "---  ------             --------------  ----- \n",
      " 0   CARATER            51223 non-null  object\n",
      " 1   CID                51223 non-null  object\n",
      " 2   IDADE              51223 non-null  int8  \n",
      " 3   GENERO             51223 non-null  object\n",
      " 4   tempo_permanencia  51223 non-null  object\n",
      "dtypes: int8(1), object(4)\n",
      "memory usage: 2.0+ MB\n"
     ]
    }
   ],
   "source": [
    "del clean_data['DIAGNOSTICO']\n",
    "\n",
    "clean_data.info()"
   ]
  },
  {
   "cell_type": "code",
   "execution_count": 11,
   "metadata": {},
   "outputs": [
    {
     "data": {
      "text/plain": [
       "(array(['Curto', 'Longo', 'Medio'], dtype=object),\n",
       " array([45476,  1384,  4363], dtype=int64))"
      ]
     },
     "execution_count": 11,
     "metadata": {},
     "output_type": "execute_result"
    }
   ],
   "source": [
    "#Gerando alguns gráficos para análise visual de nossos dados\n",
    "np.unique(clean_data['tempo_permanencia'], return_counts=True)"
   ]
  },
  {
   "cell_type": "markdown",
   "metadata": {},
   "source": [
    "Gráfico exibe a contagem de registros distribuidos pelas classes que queremos classificar "
   ]
  },
  {
   "cell_type": "code",
   "execution_count": 12,
   "metadata": {},
   "outputs": [
    {
     "data": {
      "text/plain": [
       "<AxesSubplot:xlabel='tempo_permanencia', ylabel='count'>"
      ]
     },
     "execution_count": 12,
     "metadata": {},
     "output_type": "execute_result"
    },
    {
     "data": {
      "image/png": "[encoded data removed]",
      "text/plain": [
       "<Figure size 432x288 with 1 Axes>"
      ]
     },
     "metadata": {
      "needs_background": "light"
     },
     "output_type": "display_data"
    }
   ],
   "source": [
    "sns.countplot(x='tempo_permanencia', data=clean_data)"
   ]
  },
  {
   "cell_type": "markdown",
   "metadata": {},
   "source": [
    "Podemos verificar que nossa base possui uma quantia muito mais significativa de pacientes que ficaram pouco tempo nas dependencias do hospital."
   ]
  },
  {
   "cell_type": "code",
   "execution_count": 13,
   "metadata": {},
   "outputs": [],
   "source": [
    "#importando a biblioteca de plotagem do plotly \n",
    "import plotly.express as px"
   ]
  },
  {
   "cell_type": "code",
   "execution_count": 14,
   "metadata": {},
   "outputs": [
    {
     "data": {
      "text/plain": [
       "(array([  127.,   994.,  6875., 15274., 12905.,  9268.,  3904.,  1545.,\n",
       "          311.,    20.]),\n",
       " array([  1. ,  11.4,  21.8,  32.2,  42.6,  53. ,  63.4,  73.8,  84.2,\n",
       "         94.6, 105. ]),\n",
       " <BarContainer object of 10 artists>)"
      ]
     },
     "execution_count": 14,
     "metadata": {},
     "output_type": "execute_result"
    },
    {
     "data": {
      "image/png": "[encoded data removed]",
      "text/plain": [
       "<Figure size 432x288 with 1 Axes>"
      ]
     },
     "metadata": {
      "needs_background": "light"
     },
     "output_type": "display_data"
    }
   ],
   "source": [
    "#Gerando alguns histogramas, para analise de cada parametro da base de dados\n",
    "plt.hist(x = clean_data['IDADE'])"
   ]
  },
  {
   "cell_type": "markdown",
   "metadata": {},
   "source": [
    "Podemos validar através do gráfico acima que nosso perfil de paciente, caso fosse divido em faixas etárias, será concentrado nos adultos (18 até 64 anos)"
   ]
  },
  {
   "cell_type": "code",
   "execution_count": 15,
   "metadata": {},
   "outputs": [
    {
     "data": {
      "text/plain": [
       "(array([38077.,     0.,     0.,     0.,     0.,     0.,     0.,     0.,\n",
       "            0., 13146.]),\n",
       " array([0. , 0.1, 0.2, 0.3, 0.4, 0.5, 0.6, 0.7, 0.8, 0.9, 1. ]),\n",
       " <BarContainer object of 10 artists>)"
      ]
     },
     "execution_count": 15,
     "metadata": {},
     "output_type": "execute_result"
    },
    {
     "data": {
      "image/png": "[encoded data removed]",
      "text/plain": [
       "<Figure size 432x288 with 1 Axes>"
      ]
     },
     "metadata": {
      "needs_background": "light"
     },
     "output_type": "display_data"
    }
   ],
   "source": [
    "plt.hist(x = clean_data['CARATER'])"
   ]
  },
  {
   "cell_type": "code",
   "execution_count": 16,
   "metadata": {},
   "outputs": [
    {
     "data": {
      "text/plain": [
       "(array([36886.,     0.,     0.,     0.,     0.,     0.,     0.,     0.,\n",
       "            0., 14337.]),\n",
       " array([0. , 0.1, 0.2, 0.3, 0.4, 0.5, 0.6, 0.7, 0.8, 0.9, 1. ]),\n",
       " <BarContainer object of 10 artists>)"
      ]
     },
     "execution_count": 16,
     "metadata": {},
     "output_type": "execute_result"
    },
    {
     "data": {
      "image/png": "[encoded data removed]",
      "text/plain": [
       "<Figure size 432x288 with 1 Axes>"
      ]
     },
     "metadata": {
      "needs_background": "light"
     },
     "output_type": "display_data"
    }
   ],
   "source": [
    "plt.hist(x = clean_data['GENERO'])"
   ]
  },
  {
   "cell_type": "markdown",
   "metadata": {},
   "source": [
    "### Após nossa análise explorátoria dos dados, podemos verificar que há quantidades significativas de perfis de pacientes, podendo nos dizer que talvez tenhamos um grupo com caracteristicas bem parecidas entre sí. Ou que o hospital é utilizado por um determinado tipo de perfil de paciente."
   ]
  },
  {
   "cell_type": "markdown",
   "metadata": {},
   "source": [
    "#### Agora vamos preparar nossos dados para gerar modelos de treinamento. Para isso importaremos algumas bibliotecas"
   ]
  },
  {
   "cell_type": "code",
   "execution_count": 17,
   "metadata": {},
   "outputs": [],
   "source": [
    "from sklearn.preprocessing import LabelEncoder, StandardScaler\n",
    "from sklearn.model_selection import train_test_split\n",
    "import pickle"
   ]
  },
  {
   "cell_type": "markdown",
   "metadata": {},
   "source": [
    "Nesta etapa de nosso modelo estamos transformando os dados que são rótulos em números, como um De x Para das informações"
   ]
  },
  {
   "cell_type": "code",
   "execution_count": 18,
   "metadata": {},
   "outputs": [
    {
     "data": {
      "text/plain": [
       "array([0, 1, 46, 0], dtype=object)"
      ]
     },
     "execution_count": 18,
     "metadata": {},
     "output_type": "execute_result"
    }
   ],
   "source": [
    "#Separando valores previsores e valor de previsão do nosso modelo\n",
    "X_pacient = clean_data.iloc[:,0:4].values\n",
    "\n",
    "y_pacient = clean_data.iloc[:, 4].values\n",
    "\n",
    "#Transformando Labels\n",
    "label_carater = LabelEncoder()\n",
    "label_cid = LabelEncoder()\n",
    "label_genero = LabelEncoder()\n",
    "\n",
    "X_pacient[:,0] = label_carater.fit_transform(X_pacient[:,0])\n",
    "X_pacient[:,1] = label_cid.fit_transform(X_pacient[:,1])\n",
    "X_pacient[:,3] = label_genero.fit_transform(X_pacient[:,3])\n",
    "\n",
    "#verificando como ficou nossos dados após o LabelEncoder\n",
    "X_pacient[0]"
   ]
  },
  {
   "cell_type": "markdown",
   "metadata": {},
   "source": [
    "Realizando a normalização dos dados para melhor interpretação dos dados ao longo da execução dos modelos"
   ]
  },
  {
   "cell_type": "code",
   "execution_count": 19,
   "metadata": {},
   "outputs": [],
   "source": [
    "#padronizando dados com o StandarScaler\n",
    "scaler_pacient = StandardScaler()\n",
    "X_pacient = scaler_pacient.fit_transform(X_pacient)"
   ]
  },
  {
   "cell_type": "markdown",
   "metadata": {},
   "source": [
    "Criando as variáveis de teste e de treinamento, fazendo a divisão de 70% dos dados treino e 30% dos dados teste"
   ]
  },
  {
   "cell_type": "code",
   "execution_count": 20,
   "metadata": {},
   "outputs": [
    {
     "data": {
      "text/plain": [
       "((35856, 4), (35856,))"
      ]
     },
     "execution_count": 20,
     "metadata": {},
     "output_type": "execute_result"
    }
   ],
   "source": [
    "X_pacient_train, X_pacient_test, y_pacient_train, y_pacient_test = train_test_split(X_pacient, y_pacient, test_size=0.3, random_state=0)\n",
    "\n",
    "X_pacient_train.shape, y_pacient_train.shape"
   ]
  },
  {
   "cell_type": "markdown",
   "metadata": {},
   "source": [
    "Podemos verificar a quantidade de registros destinados para a carga de teste do modelo"
   ]
  },
  {
   "cell_type": "code",
   "execution_count": 21,
   "metadata": {},
   "outputs": [
    {
     "data": {
      "text/plain": [
       "((15367, 4), (15367,))"
      ]
     },
     "execution_count": 21,
     "metadata": {},
     "output_type": "execute_result"
    }
   ],
   "source": [
    "X_pacient_test.shape, y_pacient_test.shape"
   ]
  },
  {
   "cell_type": "code",
   "execution_count": 22,
   "metadata": {},
   "outputs": [],
   "source": [
    "#Salvando nossa base no arquivo pkl para treinamento do modelo\n",
    "with open('pacient.pkl', mode ='wb') as f:\n",
    "    pickle.dump([X_pacient_train,y_pacient_train,X_pacient_test,y_pacient_test],f)\n",
    "    "
   ]
  },
  {
   "cell_type": "markdown",
   "metadata": {},
   "source": [
    "### Agora após nossos dados preparados no pre-processamento, iremos gerar alguns modelos para analise dos resultados"
   ]
  },
  {
   "cell_type": "code",
   "execution_count": 23,
   "metadata": {},
   "outputs": [],
   "source": [
    "from sklearn.naive_bayes import GaussianNB\n",
    "from sklearn.metrics import accuracy_score, classification_report\n",
    "from yellowbrick.classifier import ConfusionMatrix\n",
    "import pickle\n",
    "import pandas as pd"
   ]
  },
  {
   "cell_type": "markdown",
   "metadata": {},
   "source": [
    "Realizando a leitura dos dados após o preprocessamento para aplicar o algoritmo"
   ]
  },
  {
   "cell_type": "code",
   "execution_count": 24,
   "metadata": {},
   "outputs": [
    {
     "data": {
      "text/plain": [
       "((35856, 4), (35856,))"
      ]
     },
     "execution_count": 24,
     "metadata": {},
     "output_type": "execute_result"
    }
   ],
   "source": [
    "with open('pacient.pkl', mode='rb') as f:\n",
    "  X_pacient_train, y_pacient_train, X_pacient_test, y_pacient_test = pickle.load(f)\n",
    "\n",
    "X_pacient_train.shape, y_pacient_train.shape"
   ]
  },
  {
   "cell_type": "markdown",
   "metadata": {},
   "source": [
    "### Aplicando algoritmo de Naive Bayes teremos o seguinte resultado"
   ]
  },
  {
   "cell_type": "code",
   "execution_count": 25,
   "metadata": {},
   "outputs": [
    {
     "data": {
      "text/html": [
       "<style>#sk-container-id-1 {color: black;background-color: white;}#sk-container-id-1 pre{padding: 0;}#sk-container-id-1 div.sk-toggleable {background-color: white;}#sk-container-id-1 label.sk-toggleable__label {cursor: pointer;display: block;width: 100%;margin-bottom: 0;padding: 0.3em;box-sizing: border-box;text-align: center;}#sk-container-id-1 label.sk-toggleable__label-arrow:before {content: \"▸\";float: left;margin-right: 0.25em;color: #696969;}#sk-container-id-1 label.sk-toggleable__label-arrow:hover:before {color: black;}#sk-container-id-1 div.sk-estimator:hover label.sk-toggleable__label-arrow:before {color: black;}#sk-container-id-1 div.sk-toggleable__content {max-height: 0;max-width: 0;overflow: hidden;text-align: left;background-color: #f0f8ff;}#sk-container-id-1 div.sk-toggleable__content pre {margin: 0.2em;color: black;border-radius: 0.25em;background-color: #f0f8ff;}#sk-container-id-1 input.sk-toggleable__control:checked~div.sk-toggleable__content {max-height: 200px;max-width: 100%;overflow: auto;}#sk-container-id-1 input.sk-toggleable__control:checked~label.sk-toggleable__label-arrow:before {content: \"▾\";}#sk-container-id-1 div.sk-estimator input.sk-toggleable__control:checked~label.sk-toggleable__label {background-color: #d4ebff;}#sk-container-id-1 div.sk-label input.sk-toggleable__control:checked~label.sk-toggleable__label {background-color: #d4ebff;}#sk-container-id-1 input.sk-hidden--visually {border: 0;clip: rect(1px 1px 1px 1px);clip: rect(1px, 1px, 1px, 1px);height: 1px;margin: -1px;overflow: hidden;padding: 0;position: absolute;width: 1px;}#sk-container-id-1 div.sk-estimator {font-family: monospace;background-color: #f0f8ff;border: 1px dotted black;border-radius: 0.25em;box-sizing: border-box;margin-bottom: 0.5em;}#sk-container-id-1 div.sk-estimator:hover {background-color: #d4ebff;}#sk-container-id-1 div.sk-parallel-item::after {content: \"\";width: 100%;border-bottom: 1px solid gray;flex-grow: 1;}#sk-container-id-1 div.sk-label:hover label.sk-toggleable__label {background-color: #d4ebff;}#sk-container-id-1 div.sk-serial::before {content: \"\";position: absolute;border-left: 1px solid gray;box-sizing: border-box;top: 0;bottom: 0;left: 50%;z-index: 0;}#sk-container-id-1 div.sk-serial {display: flex;flex-direction: column;align-items: center;background-color: white;padding-right: 0.2em;padding-left: 0.2em;position: relative;}#sk-container-id-1 div.sk-item {position: relative;z-index: 1;}#sk-container-id-1 div.sk-parallel {display: flex;align-items: stretch;justify-content: center;background-color: white;position: relative;}#sk-container-id-1 div.sk-item::before, #sk-container-id-1 div.sk-parallel-item::before {content: \"\";position: absolute;border-left: 1px solid gray;box-sizing: border-box;top: 0;bottom: 0;left: 50%;z-index: -1;}#sk-container-id-1 div.sk-parallel-item {display: flex;flex-direction: column;z-index: 1;position: relative;background-color: white;}#sk-container-id-1 div.sk-parallel-item:first-child::after {align-self: flex-end;width: 50%;}#sk-container-id-1 div.sk-parallel-item:last-child::after {align-self: flex-start;width: 50%;}#sk-container-id-1 div.sk-parallel-item:only-child::after {width: 0;}#sk-container-id-1 div.sk-dashed-wrapped {border: 1px dashed gray;margin: 0 0.4em 0.5em 0.4em;box-sizing: border-box;padding-bottom: 0.4em;background-color: white;}#sk-container-id-1 div.sk-label label {font-family: monospace;font-weight: bold;display: inline-block;line-height: 1.2em;}#sk-container-id-1 div.sk-label-container {text-align: center;}#sk-container-id-1 div.sk-container {/* jupyter's `normalize.less` sets `[hidden] { display: none; }` but bootstrap.min.css set `[hidden] { display: none !important; }` so we also need the `!important` here to be able to override the default hidden behavior on the sphinx rendered scikit-learn.org. See: https://github.com/scikit-learn/scikit-learn/issues/21755 */display: inline-block !important;position: relative;}#sk-container-id-1 div.sk-text-repr-fallback {display: none;}</style><div id=\"sk-container-id-1\" class=\"sk-top-container\"><div class=\"sk-text-repr-fallback\"><pre>GaussianNB()</pre><b>In a Jupyter environment, please rerun this cell to show the HTML representation or trust the notebook. <br />On GitHub, the HTML representation is unable to render, please try loading this page with nbviewer.org.</b></div><div class=\"sk-container\" hidden><div class=\"sk-item\"><div class=\"sk-estimator sk-toggleable\"><input class=\"sk-toggleable__control sk-hidden--visually\" id=\"sk-estimator-id-1\" type=\"checkbox\" checked><label for=\"sk-estimator-id-1\" class=\"sk-toggleable__label sk-toggleable__label-arrow\">GaussianNB</label><div class=\"sk-toggleable__content\"><pre>GaussianNB()</pre></div></div></div></div></div>"
      ],
      "text/plain": [
       "GaussianNB()"
      ]
     },
     "execution_count": 25,
     "metadata": {},
     "output_type": "execute_result"
    }
   ],
   "source": [
    "naive_bayes_pacient = GaussianNB()\n",
    "naive_bayes_pacient.fit(X_pacient_train, y_pacient_train)"
   ]
  },
  {
   "cell_type": "markdown",
   "metadata": {},
   "source": [
    "Após execução da função de predição, veremos os resultados gerados pela execução do código."
   ]
  },
  {
   "cell_type": "code",
   "execution_count": 26,
   "metadata": {},
   "outputs": [
    {
     "data": {
      "text/plain": [
       "array(['Curto', 'Curto', 'Curto', ..., 'Curto', 'Curto', 'Longo'],\n",
       "      dtype='<U5')"
      ]
     },
     "execution_count": 26,
     "metadata": {},
     "output_type": "execute_result"
    }
   ],
   "source": [
    "predict = naive_bayes_pacient.predict(X_pacient_test)\n",
    "predict"
   ]
  },
  {
   "cell_type": "markdown",
   "metadata": {},
   "source": [
    "Agora iremos analisar a taxa de acurácia do algoritmo"
   ]
  },
  {
   "cell_type": "code",
   "execution_count": 27,
   "metadata": {},
   "outputs": [
    {
     "data": {
      "text/plain": [
       "0.8728444068458385"
      ]
     },
     "execution_count": 27,
     "metadata": {},
     "output_type": "execute_result"
    }
   ],
   "source": [
    "accuracy_score(y_pacient_test, predict)"
   ]
  },
  {
   "cell_type": "markdown",
   "metadata": {},
   "source": [
    "Através da matriz de confusão podemos verificar o quanto foi de cada classe previsora foi corretamente classificado pelo algoritmo"
   ]
  },
  {
   "cell_type": "code",
   "execution_count": 28,
   "metadata": {},
   "outputs": [
    {
     "name": "stdout",
     "output_type": "stream",
     "text": [
      "0.8728444068458385\n",
      "              precision    recall  f1-score   support\n",
      "\n",
      "       Curto       0.96      0.89      0.93     13642\n",
      "       Longo       1.00      1.00      1.00       401\n",
      "       Medio       0.37      0.66      0.47      1324\n",
      "\n",
      "    accuracy                           0.87     15367\n",
      "   macro avg       0.78      0.85      0.80     15367\n",
      "weighted avg       0.91      0.87      0.89     15367\n",
      "\n"
     ]
    },
    {
     "data": {
      "image/png": "[encoded data removed]",
      "text/plain": [
       "<Figure size 576x396 with 1 Axes>"
      ]
     },
     "metadata": {},
     "output_type": "display_data"
    }
   ],
   "source": [
    "cm = ConfusionMatrix(naive_bayes_pacient)\n",
    "cm.fit(X_pacient_train, y_pacient_train)\n",
    "print(cm.score(X_pacient_test, y_pacient_test))\n",
    "\n",
    "print(classification_report(y_pacient_test, predict))"
   ]
  },
  {
   "cell_type": "markdown",
   "metadata": {},
   "source": [
    "### Aplicando o algoritmo de Random Forest"
   ]
  },
  {
   "cell_type": "code",
   "execution_count": 29,
   "metadata": {},
   "outputs": [],
   "source": [
    "from sklearn.ensemble import RandomForestClassifier"
   ]
  },
  {
   "cell_type": "markdown",
   "metadata": {},
   "source": [
    "Instanciando objeto para utilização do modelo de Random Forest de treinamento"
   ]
  },
  {
   "cell_type": "code",
   "execution_count": 30,
   "metadata": {},
   "outputs": [
    {
     "data": {
      "text/plain": [
       "array(['Curto', 'Longo', 'Medio'], dtype=object)"
      ]
     },
     "execution_count": 30,
     "metadata": {},
     "output_type": "execute_result"
    }
   ],
   "source": [
    "random_forest_pacient = RandomForestClassifier(n_estimators=100, criterion='entropy', random_state=0)\n",
    "random_forest_pacient.fit(X_pacient_train, y_pacient_train)\n",
    "\n",
    "random_forest_pacient.classes_"
   ]
  },
  {
   "cell_type": "markdown",
   "metadata": {},
   "source": [
    "Exibição das classes que queremos classificar com os modelos"
   ]
  },
  {
   "cell_type": "markdown",
   "metadata": {},
   "source": [
    "Após execução da função de predição, veremos os resultados gerados pela execução do código."
   ]
  },
  {
   "cell_type": "code",
   "execution_count": 31,
   "metadata": {},
   "outputs": [
    {
     "data": {
      "text/plain": [
       "array(['Curto', 'Curto', 'Curto', ..., 'Curto', 'Curto', 'Longo'],\n",
       "      dtype=object)"
      ]
     },
     "execution_count": 31,
     "metadata": {},
     "output_type": "execute_result"
    }
   ],
   "source": [
    "predict = random_forest_pacient.predict(X_pacient_test)\n",
    "predict"
   ]
  },
  {
   "cell_type": "markdown",
   "metadata": {},
   "source": [
    "Agora iremos analisar a taxa de acurácia do algoritmo"
   ]
  },
  {
   "cell_type": "code",
   "execution_count": 32,
   "metadata": {},
   "outputs": [
    {
     "data": {
      "text/plain": [
       "0.9157285091429687"
      ]
     },
     "execution_count": 32,
     "metadata": {},
     "output_type": "execute_result"
    }
   ],
   "source": [
    "accuracy_score(y_pacient_test, predict)"
   ]
  },
  {
   "cell_type": "markdown",
   "metadata": {},
   "source": [
    "Através da matriz de confusão podemos verificar o quanto foi de cada classe previsora foi corretamente classificado pelo algoritmo"
   ]
  },
  {
   "cell_type": "code",
   "execution_count": 33,
   "metadata": {},
   "outputs": [
    {
     "name": "stdout",
     "output_type": "stream",
     "text": [
      "              precision    recall  f1-score   support\n",
      "\n",
      "       Curto       0.92      0.99      0.95     13642\n",
      "       Longo       1.00      1.00      1.00       401\n",
      "       Medio       0.55      0.13      0.21      1324\n",
      "\n",
      "    accuracy                           0.92     15367\n",
      "   macro avg       0.82      0.71      0.72     15367\n",
      "weighted avg       0.89      0.92      0.89     15367\n",
      "\n"
     ]
    },
    {
     "data": {
      "image/png": "[encoded data removed]",
      "text/plain": [
       "<Figure size 576x396 with 1 Axes>"
      ]
     },
     "metadata": {},
     "output_type": "display_data"
    }
   ],
   "source": [
    "cm = ConfusionMatrix(random_forest_pacient)\n",
    "cm.fit(X_pacient_train, y_pacient_train)\n",
    "cm.score(X_pacient_test, y_pacient_test)\n",
    "\n",
    "print(classification_report(y_pacient_test, predict))"
   ]
  },
  {
   "cell_type": "markdown",
   "metadata": {},
   "source": [
    "### Aplicando algoritmo de Regressão Logística"
   ]
  },
  {
   "cell_type": "code",
   "execution_count": 34,
   "metadata": {},
   "outputs": [],
   "source": [
    "from sklearn.linear_model import LogisticRegression"
   ]
  },
  {
   "cell_type": "markdown",
   "metadata": {},
   "source": [
    "Instanciando objeto para utilização do modelo de Regressão Logística de treinamento"
   ]
  },
  {
   "cell_type": "code",
   "execution_count": 35,
   "metadata": {},
   "outputs": [
    {
     "data": {
      "text/plain": [
       "array([[-0.91086876,  1.09326388, -0.19531099, -0.03326029],\n",
       "       [ 0.05791725, -2.0237852 ,  0.07853157,  0.02686446],\n",
       "       [ 0.85295151,  0.93052132,  0.11677942,  0.00639583]])"
      ]
     },
     "execution_count": 35,
     "metadata": {},
     "output_type": "execute_result"
    }
   ],
   "source": [
    "logistic_pacient = LogisticRegression(random_state=1)\n",
    "logistic_pacient.fit(X_pacient_train, y_pacient_train)\n",
    "\n",
    "logistic_pacient.intercept_\n",
    "logistic_pacient.coef_"
   ]
  },
  {
   "cell_type": "markdown",
   "metadata": {},
   "source": [
    "Após execução da função de predição, veremos os resultados gerados pela execução do código."
   ]
  },
  {
   "cell_type": "code",
   "execution_count": 36,
   "metadata": {},
   "outputs": [
    {
     "data": {
      "text/plain": [
       "array(['Curto', 'Curto', 'Curto', ..., 'Curto', 'Curto', 'Longo'],\n",
       "      dtype=object)"
      ]
     },
     "execution_count": 36,
     "metadata": {},
     "output_type": "execute_result"
    }
   ],
   "source": [
    "predict = logistic_pacient.predict(X_pacient_test)\n",
    "predict"
   ]
  },
  {
   "cell_type": "markdown",
   "metadata": {},
   "source": [
    "Agora iremos analisar a taxa de acurácia do algoritmo"
   ]
  },
  {
   "cell_type": "code",
   "execution_count": 37,
   "metadata": {},
   "outputs": [
    {
     "data": {
      "text/plain": [
       "0.9165744777770547"
      ]
     },
     "execution_count": 37,
     "metadata": {},
     "output_type": "execute_result"
    }
   ],
   "source": [
    "accuracy_score(y_pacient_test, predict)"
   ]
  },
  {
   "cell_type": "markdown",
   "metadata": {},
   "source": [
    "Através da matriz de confusão podemos verificar o quanto foi de cada classe previsora foi corretamente classificado pelo algoritmo"
   ]
  },
  {
   "cell_type": "code",
   "execution_count": 38,
   "metadata": {},
   "outputs": [
    {
     "name": "stdout",
     "output_type": "stream",
     "text": [
      "0.9165744777770547\n",
      "              precision    recall  f1-score   support\n",
      "\n",
      "       Curto       0.92      1.00      0.95     13642\n",
      "       Longo       1.00      1.00      1.00       401\n",
      "       Medio       0.65      0.07      0.12      1324\n",
      "\n",
      "    accuracy                           0.92     15367\n",
      "   macro avg       0.86      0.69      0.69     15367\n",
      "weighted avg       0.90      0.92      0.88     15367\n",
      "\n"
     ]
    },
    {
     "data": {
      "image/png": "[encoded data removed]",
      "text/plain": [
       "<Figure size 576x396 with 1 Axes>"
      ]
     },
     "metadata": {},
     "output_type": "display_data"
    }
   ],
   "source": [
    "cm = ConfusionMatrix(logistic_pacient)\n",
    "cm.fit(X_pacient_train, y_pacient_train)\n",
    "print(cm.score(X_pacient_test, y_pacient_test))\n",
    "\n",
    "print(classification_report(y_pacient_test, predict))"
   ]
  }
 ],
 "metadata": {
  "interpreter": {
   "hash": "3c3fdd1ba6fa6149e0a55b9d95e637df8fd62d3a04e8e673bb353b444f545e4d"
  },
  "kernelspec": {
   "display_name": "Python 3.9.0 64-bit",
   "language": "python",
   "name": "python3"
  },
  "language_info": {
   "codemirror_mode": {
    "name": "ipython",
    "version": 3
   },
   "file_extension": ".py",
   "mimetype": "text/x-python",
   "name": "python",
   "nbconvert_exporter": "python",
   "pygments_lexer": "ipython3",
   "version": "3.9.0"
  },
  "orig_nbformat": 4
 },
 "nbformat": 4,
 "nbformat_minor": 2
}
